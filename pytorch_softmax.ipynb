{
 "cells": [
  {
   "cell_type": "code",
   "execution_count": 42,
   "metadata": {},
   "outputs": [],
   "source": [
    "import torch\n",
    "import torch.nn as nn\n",
    "import torch.nn.functional as F\n",
    "from torchvision import datasets, transforms\n",
    "from torch.autograd import Variable\n",
    "import numpy as np"
   ]
  },
  {
   "cell_type": "code",
   "execution_count": 43,
   "metadata": {},
   "outputs": [],
   "source": [
    "Y = np.array([1,0,0])"
   ]
  },
  {
   "cell_type": "code",
   "execution_count": 47,
   "metadata": {},
   "outputs": [
    {
     "name": "stdout",
     "output_type": "stream",
     "text": [
      "loss1 =  nan\n",
      "loss2 =  2.3025850929940455\n"
     ]
    },
    {
     "name": "stderr",
     "output_type": "stream",
     "text": [
      "/home/ishan/anaconda3/lib/python3.6/site-packages/ipykernel_launcher.py:3: RuntimeWarning: divide by zero encountered in log\n",
      "  This is separate from the ipykernel package so we can avoid doing imports until\n",
      "/home/ishan/anaconda3/lib/python3.6/site-packages/ipykernel_launcher.py:3: RuntimeWarning: invalid value encountered in multiply\n",
      "  This is separate from the ipykernel package so we can avoid doing imports until\n"
     ]
    }
   ],
   "source": [
    "y_pred1 = np.array([0.9,0.0,0.1])\n",
    "y_pred2 = np.array([0.1,0.3,0.6])\n",
    "print (\"loss1 = \",np.sum(-Y*np.log(y_pred1)))\n",
    "print (\"loss2 = \",np.sum(-Y*np.log(y_pred2)))"
   ]
  },
  {
   "cell_type": "code",
   "execution_count": 8,
   "metadata": {},
   "outputs": [],
   "source": [
    "loss = nn.CrossEntropyLoss()\n",
    "l1 = loss(y-pred)"
   ]
  },
  {
   "cell_type": "code",
   "execution_count": 17,
   "metadata": {},
   "outputs": [],
   "source": [
    "Y = Variable(torch.LongTensor([0]),requires_grad = False)"
   ]
  },
  {
   "cell_type": "code",
   "execution_count": 20,
   "metadata": {},
   "outputs": [],
   "source": [
    "Y_pred1 = Variable(torch.Tensor([[2.0,1.0,0.1]]))\n",
    "Y_pred2 = Variable(torch.Tensor([[0.5,2.0,0.3]]))"
   ]
  },
  {
   "cell_type": "code",
   "execution_count": 21,
   "metadata": {},
   "outputs": [],
   "source": [
    "l1 = loss(Y_pred1,Y)\n",
    "l2 = loss(Y_pred2,Y)"
   ]
  },
  {
   "cell_type": "code",
   "execution_count": 22,
   "metadata": {},
   "outputs": [
    {
     "name": "stdout",
     "output_type": "stream",
     "text": [
      "Pytorch Loss1 =  tensor(0.4170)\n",
      "pytorch loss2 =  tensor(1.8406)\n"
     ]
    }
   ],
   "source": [
    "print (\"Pytorch Loss1 = \", l1.data)\n",
    "print (\"pytorch loss2 = \", l2.data)"
   ]
  },
  {
   "cell_type": "code",
   "execution_count": 28,
   "metadata": {},
   "outputs": [
    {
     "name": "stdout",
     "output_type": "stream",
     "text": [
      "Y_pred1 =  tensor([ 0])\n",
      "Y_pred2 =  tensor([ 1])\n"
     ]
    }
   ],
   "source": [
    "print (\"Y_pred1 = \", torch.max(Y_pred1.data,1)[1])\n",
    "print (\"Y_pred2 = \", torch.max(Y_pred2.data, 1)[1])"
   ]
  },
  {
   "cell_type": "code",
   "execution_count": 29,
   "metadata": {},
   "outputs": [],
   "source": [
    "Y = Variable(torch.tensor([2,0,1]),requires_grad = False)"
   ]
  },
  {
   "cell_type": "code",
   "execution_count": 31,
   "metadata": {},
   "outputs": [],
   "source": [
    "Y_pred1 = Variable(torch.tensor([[0.1,0.2,0.9],\n",
    "                                [1.1,0.1,0.2],\n",
    "                                [0.2,2.1,0.1]]))\n",
    "\n",
    "Y_pred2 = Variable(torch.tensor([[0.8,0.2,0.3],\n",
    "                                [0.2,0.3,0.5],\n",
    "                                [0.2,0.2,0.5]]))"
   ]
  },
  {
   "cell_type": "code",
   "execution_count": 36,
   "metadata": {},
   "outputs": [
    {
     "name": "stdout",
     "output_type": "stream",
     "text": [
      "tensor(0.4966)\n",
      "tensor(1.2389)\n"
     ]
    },
    {
     "name": "stderr",
     "output_type": "stream",
     "text": [
      "/home/ishan/anaconda3/lib/python3.6/site-packages/ipykernel_launcher.py:3: UserWarning: invalid index of a 0-dim tensor. This will be an error in PyTorch 0.5. Use tensor.item() to convert a 0-dim tensor to a Python number\n",
      "  This is separate from the ipykernel package so we can avoid doing imports until\n"
     ]
    }
   ],
   "source": [
    "l1 = loss(Y_pred1,Y)\n",
    "l2 = loss(Y_pred2,Y)\n",
    "print (l1.data[0])\n",
    "print (l2.data)"
   ]
  },
  {
   "cell_type": "code",
   "execution_count": null,
   "metadata": {},
   "outputs": [],
   "source": []
  }
 ],
 "metadata": {
  "kernelspec": {
   "display_name": "Python 3",
   "language": "python",
   "name": "python3"
  },
  "language_info": {
   "codemirror_mode": {
    "name": "ipython",
    "version": 3
   },
   "file_extension": ".py",
   "mimetype": "text/x-python",
   "name": "python",
   "nbconvert_exporter": "python",
   "pygments_lexer": "ipython3",
   "version": "3.6.5"
  }
 },
 "nbformat": 4,
 "nbformat_minor": 2
}
