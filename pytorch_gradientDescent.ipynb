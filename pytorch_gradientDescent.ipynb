{
 "cells": [
  {
   "cell_type": "code",
   "execution_count": 20,
   "metadata": {},
   "outputs": [],
   "source": [
    "import numpy as np\n",
    "import matplotlib.pyplot as plt"
   ]
  },
  {
   "cell_type": "code",
   "execution_count": 21,
   "metadata": {},
   "outputs": [],
   "source": [
    "#declaring data set\n",
    "x_data = [1.0, 2.0, 3.0]\n",
    "y_data = [2.0,4.0,6.0]"
   ]
  },
  {
   "cell_type": "code",
   "execution_count": 28,
   "metadata": {},
   "outputs": [],
   "source": [
    "#declaring a random weight\n",
    "w=1.0"
   ]
  },
  {
   "cell_type": "code",
   "execution_count": 29,
   "metadata": {},
   "outputs": [],
   "source": [
    "def forward(x):\n",
    "    return w*x"
   ]
  },
  {
   "cell_type": "code",
   "execution_count": 30,
   "metadata": {},
   "outputs": [],
   "source": [
    "def loss(x,y):\n",
    "    return (forward(x)-y)**2"
   ]
  },
  {
   "cell_type": "code",
   "execution_count": 31,
   "metadata": {},
   "outputs": [],
   "source": [
    "def gradient(x,y):\n",
    "    return 2*x*(w*x-y)"
   ]
  },
  {
   "cell_type": "code",
   "execution_count": 32,
   "metadata": {},
   "outputs": [
    {
     "name": "stdout",
     "output_type": "stream",
     "text": [
      "before training, predicted value for input 4 is 4.0\n"
     ]
    }
   ],
   "source": [
    "#before training \n",
    "print (\"before training, predicted value for input 4 is\",forward(4))"
   ]
  },
  {
   "cell_type": "code",
   "execution_count": 33,
   "metadata": {},
   "outputs": [
    {
     "name": "stdout",
     "output_type": "stream",
     "text": [
      "\t grad :  1.0 2.0 -2.0\n",
      "\t grad :  2.0 4.0 -7.84\n",
      "\t grad :  3.0 6.0 -16.23\n",
      "epoch: 0 \t w: 1.26 \t loss: 4.92\n",
      "\t grad :  1.0 2.0 -1.48\n",
      "\t grad :  2.0 4.0 -5.8\n",
      "\t grad :  3.0 6.0 -12.0\n",
      "epoch: 1 \t w: 1.45 \t loss: 2.69\n",
      "\t grad :  1.0 2.0 -1.09\n",
      "\t grad :  2.0 4.0 -4.29\n",
      "\t grad :  3.0 6.0 -8.87\n",
      "epoch: 2 \t w: 1.6 \t loss: 1.47\n",
      "\t grad :  1.0 2.0 -0.81\n",
      "\t grad :  2.0 4.0 -3.17\n",
      "\t grad :  3.0 6.0 -6.56\n",
      "epoch: 3 \t w: 1.7 \t loss: 0.8\n",
      "\t grad :  1.0 2.0 -0.6\n",
      "\t grad :  2.0 4.0 -2.34\n",
      "\t grad :  3.0 6.0 -4.85\n",
      "epoch: 4 \t w: 1.78 \t loss: 0.44\n",
      "\t grad :  1.0 2.0 -0.44\n",
      "\t grad :  2.0 4.0 -1.73\n",
      "\t grad :  3.0 6.0 -3.58\n",
      "epoch: 5 \t w: 1.84 \t loss: 0.24\n",
      "\t grad :  1.0 2.0 -0.33\n",
      "\t grad :  2.0 4.0 -1.28\n",
      "\t grad :  3.0 6.0 -2.65\n",
      "epoch: 6 \t w: 1.88 \t loss: 0.13\n",
      "\t grad :  1.0 2.0 -0.24\n",
      "\t grad :  2.0 4.0 -0.95\n",
      "\t grad :  3.0 6.0 -1.96\n",
      "epoch: 7 \t w: 1.91 \t loss: 0.07\n",
      "\t grad :  1.0 2.0 -0.18\n",
      "\t grad :  2.0 4.0 -0.7\n",
      "\t grad :  3.0 6.0 -1.45\n",
      "epoch: 8 \t w: 1.93 \t loss: 0.04\n",
      "\t grad :  1.0 2.0 -0.13\n",
      "\t grad :  2.0 4.0 -0.52\n",
      "\t grad :  3.0 6.0 -1.07\n",
      "epoch: 9 \t w: 1.95 \t loss: 0.02\n",
      "\t grad :  1.0 2.0 -0.1\n",
      "\t grad :  2.0 4.0 -0.38\n",
      "\t grad :  3.0 6.0 -0.79\n",
      "epoch: 10 \t w: 1.96 \t loss: 0.01\n",
      "\t grad :  1.0 2.0 -0.07\n",
      "\t grad :  2.0 4.0 -0.28\n",
      "\t grad :  3.0 6.0 -0.59\n",
      "epoch: 11 \t w: 1.97 \t loss: 0.01\n",
      "after training: predicted value for input 4 is: 7.893342093164397\n"
     ]
    }
   ],
   "source": [
    "# training loop\n",
    "w_list=[]\n",
    "l_list = []\n",
    "for epoch in range(12):\n",
    "    for x_val, y_val in zip(x_data,y_data):\n",
    "        grad = gradient(x_val, y_val)\n",
    "        w -=  0.01*grad\n",
    "        w_list.append(w)\n",
    "        print (\"\\t grad : \",x_val,y_val,round(grad,2))\n",
    "        l = loss(x_val,y_val)\n",
    "        l_list.append(l)\n",
    "    print (\"epoch:\",epoch,\"\\t w:\",round(w,2),\"\\t loss:\",round(l,2))\n",
    "print (\"after training: predicted value for input 4 is:\", forward(4))\n"
   ]
  },
  {
   "cell_type": "code",
   "execution_count": null,
   "metadata": {},
   "outputs": [],
   "source": []
  },
  {
   "cell_type": "code",
   "execution_count": 35,
   "metadata": {},
   "outputs": [
    {
     "data": {
      "image/png": "[encoded data removed]",
      "text/plain": [
       "<Figure size 432x288 with 1 Axes>"
      ]
     },
     "metadata": {},
     "output_type": "display_data"
    }
   ],
   "source": [
    "plt.plot(w_list,l_list)\n",
    "plt.ylabel('Loss')\n",
    "plt.xlabel('w')\n",
    "plt.show()"
   ]
  },
  {
   "cell_type": "code",
   "execution_count": null,
   "metadata": {},
   "outputs": [],
   "source": []
  }
 ],
 "metadata": {
  "kernelspec": {
   "display_name": "Python 3",
   "language": "python",
   "name": "python3"
  },
  "language_info": {
   "codemirror_mode": {
    "name": "ipython",
    "version": 3
   },
   "file_extension": ".py",
   "mimetype": "text/x-python",
   "name": "python",
   "nbconvert_exporter": "python",
   "pygments_lexer": "ipython3",
   "version": "3.6.5"
  }
 },
 "nbformat": 4,
 "nbformat_minor": 2
}
