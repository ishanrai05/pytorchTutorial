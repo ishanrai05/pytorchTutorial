{
 "cells": [
  {
   "cell_type": "code",
   "execution_count": 2,
   "metadata": {},
   "outputs": [],
   "source": [
    "import numpy as np\n",
    "import torch\n",
    "from torch.autograd import Variable\n",
    "from torch.utils.data import DataLoader, Dataset"
   ]
  },
  {
   "cell_type": "code",
   "execution_count": 4,
   "metadata": {},
   "outputs": [],
   "source": [
    "class DiabetesDataset(Dataset):\n",
    "    def __init__(self):\n",
    "        xy = np.loadtxt(\"diabetes.csv\",delimiter=',',dtype = np.float32)\n",
    "        self.x_data = torch.from_numpy(xy[:,0:-1])\n",
    "        self.y_data = torch.from_numpy(xy[:,[-1]])\n",
    "        self.len = xy.shape[0]\n",
    "    def __getitem__(self,index):\n",
    "        return self.x_data[index], self.y_data[index]\n",
    "    def __len__(self):\n",
    "        return self.len\n",
    "    \n",
    "dataset = DiabetesDataset()\n",
    "train_loader = DataLoader(dataset = dataset,\n",
    "                         batch_size = 32,\n",
    "                         shuffle = True,\n",
    "                         num_workers = 2)"
   ]
  },
  {
   "cell_type": "code",
   "execution_count": 5,
   "metadata": {},
   "outputs": [],
   "source": [
    "class Model(torch.nn.Module):\n",
    "    def __init__(self):\n",
    "        super(Model,self).__init__()\n",
    "        self.l1 = torch.nn.Linear(8,6)\n",
    "        self.l2 = torch.nn.Linear(6,4)\n",
    "        self.l3 = torch.nn.Linear(4,1)\n",
    "        self.sigmoid = torch.nn.Sigmoid()\n",
    "    def forward(self,x):\n",
    "        out1 = self.sigmoid(self.l1(x))\n",
    "        out2 = self.sigmoid(self.l2(out1))\n",
    "        y_pred = self.sigmoid(self.l3(out2))\n",
    "        return y_pred\n",
    "model = Model()"
   ]
  },
  {
   "cell_type": "code",
   "execution_count": 7,
   "metadata": {},
   "outputs": [],
   "source": [
    "criterion = torch.nn.BCELoss(size_average=True)\n",
    "optimizer = torch.optim.SGD(model.parameters(),lr=0.1)"
   ]
  },
  {
   "cell_type": "code",
   "execution_count": 8,
   "metadata": {},
   "outputs": [
    {
     "name": "stdout",
     "output_type": "stream",
     "text": [
      "0 0 tensor(0.6629)\n",
      "0 1 tensor(0.5951)\n",
      "0 2 tensor(0.6333)\n",
      "0 3 tensor(0.6770)\n",
      "0 4 tensor(0.6474)\n",
      "0 5 tensor(0.7380)\n",
      "0 6 tensor(0.6200)\n",
      "0 7 tensor(0.6326)\n",
      "0 8 tensor(0.6165)\n",
      "0 9 tensor(0.6461)\n",
      "0 10 tensor(0.6938)\n",
      "0 11 tensor(0.6462)\n",
      "0 12 tensor(0.6302)\n",
      "0 13 tensor(0.6135)\n",
      "0 14 tensor(0.6119)\n",
      "0 15 tensor(0.6105)\n",
      "0 16 tensor(0.6093)\n",
      "0 17 tensor(0.6082)\n",
      "0 18 tensor(0.6258)\n",
      "0 19 tensor(0.7201)\n",
      "0 20 tensor(0.6995)\n",
      "0 21 tensor(0.6627)\n",
      "0 22 tensor(0.6984)\n",
      "0 23 tensor(0.6717)\n"
     ]
    },
    {
     "name": "stderr",
     "output_type": "stream",
     "text": [
      "/home/ishan/anaconda3/lib/python3.6/site-packages/ipykernel_launcher.py:7: UserWarning: invalid index of a 0-dim tensor. This will be an error in PyTorch 0.5. Use tensor.item() to convert a 0-dim tensor to a Python number\n",
      "  import sys\n"
     ]
    },
    {
     "name": "stdout",
     "output_type": "stream",
     "text": [
      "1 0 tensor(0.6279)\n",
      "1 1 tensor(0.5930)\n",
      "1 2 tensor(0.6080)\n",
      "1 3 tensor(0.6630)\n",
      "1 4 tensor(0.6260)\n",
      "1 5 tensor(0.6633)\n",
      "1 6 tensor(0.7002)\n",
      "1 7 tensor(0.6987)\n",
      "1 8 tensor(0.6805)\n",
      "1 9 tensor(0.6449)\n",
      "1 10 tensor(0.7145)\n",
      "1 11 tensor(0.6284)\n",
      "1 12 tensor(0.5936)\n",
      "1 13 tensor(0.5734)\n",
      "1 14 tensor(0.7001)\n",
      "1 15 tensor(0.5717)\n",
      "1 16 tensor(0.6827)\n",
      "1 17 tensor(0.5881)\n",
      "1 18 tensor(0.6246)\n",
      "1 19 tensor(0.7812)\n",
      "1 20 tensor(0.5897)\n",
      "1 21 tensor(0.5874)\n",
      "1 22 tensor(0.7225)\n",
      "1 23 tensor(0.6737)\n"
     ]
    }
   ],
   "source": [
    "for epoch in range(2):\n",
    "    for i, data in enumerate(train_loader,0):\n",
    "        inputs, labels = data\n",
    "        inputs, labels = Variable(inputs), Variable(labels)\n",
    "        y_pred = model(inputs)\n",
    "        loss = criterion(y_pred, labels)\n",
    "        print(epoch,i,loss.data[0])\n",
    "        optimizer.zero_grad()\n",
    "        loss.backward()\n",
    "        optimizer.step()"
   ]
  },
  {
   "cell_type": "code",
   "execution_count": null,
   "metadata": {},
   "outputs": [],
   "source": []
  }
 ],
 "metadata": {
  "kernelspec": {
   "display_name": "Python 3",
   "language": "python",
   "name": "python3"
  },
  "language_info": {
   "codemirror_mode": {
    "name": "ipython",
    "version": 3
   },
   "file_extension": ".py",
   "mimetype": "text/x-python",
   "name": "python",
   "nbconvert_exporter": "python",
   "pygments_lexer": "ipython3",
   "version": "3.6.5"
  }
 },
 "nbformat": 4,
 "nbformat_minor": 2
}
